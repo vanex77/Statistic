{
 "cells": [
  {
   "cell_type": "code",
   "execution_count": 1,
   "metadata": {},
   "outputs": [],
   "source": [
    "import numpy as np\n",
    "import pandas as pd\n",
    "import scipy.stats as stats\n",
    "from scipy.stats import norm\n",
    "import matplotlib.pyplot as plt\n",
    "import math"
   ]
  },
  {
   "cell_type": "markdown",
   "metadata": {},
   "source": [
    "# Задание 1\n",
    "Даны значения величины заработной платы заемщиков банка (zp) и значения их поведенческого кредитного скоринга (ks):  \n",
    "zp = [35, 45, 190, 200, 40, 70, 54, 150, 120, 110],  \n",
    "ks = [401, 574, 874, 919, 459, 739, 653, 902, 746, 832].  \n",
    "Найдите ковариацию этих двух величин с помощью элементарных действий, а затем с помощью функции cov из numpy\n",
    "Полученные значения должны быть равны.  \n",
    "Найдите коэффициент корреляции Пирсона с помощью ковариации и среднеквадратичных отклонений двух признаков,\n",
    "а затем с использованием функций из библиотек numpy и pandas."
   ]
  },
  {
   "cell_type": "markdown",
   "metadata": {},
   "source": [
    "$$cov_{XY} = M(XY) - M(X)M(Y)$$"
   ]
  },
  {
   "cell_type": "code",
   "execution_count": 2,
   "metadata": {},
   "outputs": [
    {
     "name": "stdout",
     "output_type": "stream",
     "text": [
      "cov_1 = 9157.84 \n",
      "cov_2 = 9157.84\n"
     ]
    }
   ],
   "source": [
    "zp = np.array([35, 45, 190, 200, 40, 70, 54, 150, 120, 110])\n",
    "\n",
    "ks = np.array([401, 574, 874, 919, 459, 739, 653, 902, 746, 832])\n",
    "\n",
    "cov_1 = np.mean(zp*ks) - np.mean(zp)*np.mean(ks)   # Ковариация \"вручную\"\n",
    "\n",
    "cov_2 = np.cov(zp, ks, ddof=0)[0, 1]               # Ковариация через numpy\n",
    "\n",
    "print(\"cov_1 = %.2f\" % cov_1,\"\\ncov_2 = %.2f\" % cov_2)"
   ]
  },
  {
   "cell_type": "markdown",
   "metadata": {},
   "source": [
    "$$r_{XY} = \\frac {cov_{XY}} {\\sigma_X \\sigma_Y}$$"
   ]
  },
  {
   "cell_type": "code",
   "execution_count": 3,
   "metadata": {},
   "outputs": [
    {
     "name": "stdout",
     "output_type": "stream",
     "text": [
      "r_1 = 0.8875 \n",
      "r_2 = 0.8875\n"
     ]
    }
   ],
   "source": [
    "r_1 = cov_1 / (np.std(zp)*np.std(ks))   # Коэффициент корреляции \"вручную\"\n",
    "\n",
    "r_2 = np.corrcoef(zp, ks)[0, 1]         # Коэффициент корреляции через numpy\n",
    "\n",
    "print(\"r_1 = %.4f\" % r_1,\"\\nr_2 = %.4f\" % r_2)"
   ]
  },
  {
   "cell_type": "markdown",
   "metadata": {},
   "source": [
    "# Задание 2\n",
    "Измерены значения IQ выборки студентов, обучающихся в местных технических вузах:  \n",
    "131, 125, 115, 122, 131, 115, 107, 99, 125, 111.  \n",
    "Известно, что в генеральной совокупности IQ распределен нормально.  \n",
    "Найдите доверительный интервал для математического ожидания с надежностью 0.95."
   ]
  },
  {
   "cell_type": "code",
   "execution_count": 4,
   "metadata": {},
   "outputs": [
    {
     "name": "stdout",
     "output_type": "stream",
     "text": [
      "Доверительный интервал: [110.556 , 125.644 ]\n"
     ]
    }
   ],
   "source": [
    "IQ = np.array([131, 125, 115, 122, 131, 115, 107, 99, 125, 111])\n",
    "\n",
    "M = np.mean(IQ) # Находим среднее значение IQ\n",
    "\n",
    "IQ.var(ddof=1) # Считаем несмещенную оценку дисперсии\n",
    "\n",
    "sigma = np.sqrt(IQ.var(ddof=1)) # Находим среднее квадратичное отклонение\n",
    "\n",
    "t = stats.t.ppf(0.975, 9) # Коэфф.Стьюдента для двустороннего интервала (a=0.975, n=9)\n",
    "\n",
    "n = 10\n",
    "\n",
    "# Считаем границы доверительного интервала\n",
    "i1 = M - t*sigma/np.sqrt(n)\n",
    "i2 = M + t*sigma/np.sqrt(n)\n",
    "\n",
    "print(\"Доверительный интервал: [%.3f\" % i1, \", %.3f\" % i2, \"]\")"
   ]
  },
  {
   "cell_type": "markdown",
   "metadata": {},
   "source": [
    "# Задание 3\n",
    "\n",
    "Известно, что рост футболистов в сборной распределен нормально с дисперсией генеральной совокупности, равной 25 кв.см.  \n",
    "Объем выборки равен 27, среднее выборочное составляет 174.2.  \n",
    "Найдите доверительный интервал для математического ожидания с надежностью 0.95.\n",
    "\n",
    "Выберите тему для проектной работы по курсу Теории вероятностей и математической статистики\n",
    "и напишите ее в комментарии к Практическому заданию. (крайний срок -с 8-ым ДЗ)"
   ]
  },
  {
   "cell_type": "code",
   "execution_count": 5,
   "metadata": {},
   "outputs": [
    {
     "name": "stdout",
     "output_type": "stream",
     "text": [
      "Доверительный интервал: [172.314 , 176.086 ]\n"
     ]
    }
   ],
   "source": [
    "Z = norm.ppf(0.975)    # Критерий Z для двустороннего интервала (a=0.975)\n",
    "\n",
    "D = 25\n",
    "\n",
    "sigma = D**0.5\n",
    "\n",
    "M = 174.2\n",
    "\n",
    "n = 27\n",
    "\n",
    "i1 = M - Z*sigma/np.sqrt(n)\n",
    "i2 = M + Z*sigma/np.sqrt(n)\n",
    "\n",
    "print(\"Доверительный интервал: [%.3f\" % i1, \", %.3f\" % i2, \"]\")"
   ]
  }
 ],
 "metadata": {
  "kernelspec": {
   "display_name": "Python 3",
   "language": "python",
   "name": "python3"
  },
  "language_info": {
   "codemirror_mode": {
    "name": "ipython",
    "version": 3
   },
   "file_extension": ".py",
   "mimetype": "text/x-python",
   "name": "python",
   "nbconvert_exporter": "python",
   "pygments_lexer": "ipython3",
   "version": "3.7.4"
  }
 },
 "nbformat": 4,
 "nbformat_minor": 2
}
