{
 "cells": [
  {
   "cell_type": "code",
   "execution_count": 1,
   "metadata": {},
   "outputs": [],
   "source": [
    "import numpy as np\n",
    "import pandas as pd\n",
    "import matplotlib.pyplot as plt\n",
    "import math"
   ]
  },
  {
   "cell_type": "markdown",
   "metadata": {},
   "source": [
    "# Задание 1\n",
    "Случайная непрерывная величина **A** имеет равномерное распределение на промежутке **(200, 800]**.  \n",
    "Найдите ее среднее значение и дисперсию."
   ]
  },
  {
   "cell_type": "markdown",
   "metadata": {},
   "source": [
    "$$M(X) = \\frac{a + b}{2}$$"
   ]
  },
  {
   "cell_type": "code",
   "execution_count": 2,
   "metadata": {},
   "outputs": [
    {
     "name": "stdout",
     "output_type": "stream",
     "text": [
      "M(X) = 500\n"
     ]
    }
   ],
   "source": [
    "M = (800+200) / 2\n",
    "\n",
    "print(\"M(X) =\", int(M))"
   ]
  },
  {
   "cell_type": "markdown",
   "metadata": {},
   "source": [
    "$$D(X) = \\frac{(b - a)^2}{12}$$"
   ]
  },
  {
   "cell_type": "code",
   "execution_count": 3,
   "metadata": {},
   "outputs": [
    {
     "name": "stdout",
     "output_type": "stream",
     "text": [
      "D(X) = 30000\n"
     ]
    }
   ],
   "source": [
    "D = (800-200)**2 / 12\n",
    "\n",
    "print(\"D(X) =\", int(D))"
   ]
  },
  {
   "cell_type": "markdown",
   "metadata": {},
   "source": [
    "# Задание 2\n",
    "О случайной непрерывной равномерно распределенной величине **B** известно, что ее дисперсия равна **0.2**.  \n",
    "Можно ли найти правую границу величины **B** и ее среднее значение зная, что левая граница равна **0.5**?  \n",
    "Если да, найдите ее."
   ]
  },
  {
   "cell_type": "markdown",
   "metadata": {},
   "source": [
    "$$b = \\sqrt{12 D(X)} + a$$"
   ]
  },
  {
   "cell_type": "code",
   "execution_count": 4,
   "metadata": {},
   "outputs": [],
   "source": [
    "a = 0.5\n",
    "\n",
    "D = 0.2"
   ]
  },
  {
   "cell_type": "code",
   "execution_count": 5,
   "metadata": {},
   "outputs": [
    {
     "name": "stdout",
     "output_type": "stream",
     "text": [
      "b = 2.049\n"
     ]
    }
   ],
   "source": [
    "b = np.sqrt(12*D) + a\n",
    "\n",
    "print(\"b = %.3f\" % b)"
   ]
  },
  {
   "cell_type": "code",
   "execution_count": 6,
   "metadata": {},
   "outputs": [
    {
     "name": "stdout",
     "output_type": "stream",
     "text": [
      "M(X) = 1.275\n"
     ]
    }
   ],
   "source": [
    "M = (a + b) * 0.5\n",
    "\n",
    "print(\"M(X) = %.3f\" % M)"
   ]
  },
  {
   "cell_type": "markdown",
   "metadata": {},
   "source": [
    "# Задание 3\n",
    "Непрерывная случайная величина X распределена нормально $$f(x) = \\frac{1}{\\sigma \\sqrt{2 \\pi}} e ^ {- \\frac{(x - a)^2}{2 \\sigma^2}}$$ и задана плотностью распределения\n",
    "$$f(x) = \\frac{1}{4 \\sqrt{2 \\pi}} e ^ {- \\frac{(x + 2)^2}{32}}$$\n",
    " \n",
    "Найдите:  \n",
    "а) M(X)  \n",
    "б) D(X)  \n",
    "в) std(X) (среднее квадратичное отклонение)"
   ]
  },
  {
   "cell_type": "markdown",
   "metadata": {},
   "source": [
    "Видно, что $$\\sigma = 4$$ $$M(X) = -2$$ $$D(X) = 16$$"
   ]
  },
  {
   "cell_type": "markdown",
   "metadata": {},
   "source": [
    "# Задание 4\n",
    "Рост взрослого населения города X имеет нормальное распределение.  \n",
    "Причем, средний рост равен **174 см**, а среднее квадратичное отклонение равно **8 см**.  \n",
    "Какова вероятность того, что случайным образом выбранный взрослый человек имеет рост:  \n",
    "а) больше 182 см  \n",
    "б) больше 190 см  \n",
    "в) от 166 см до 190 см  \n",
    "г) от 166 см до 182 см  \n",
    "д) от 158 см до 190 см  \n",
    "е) не выше 150 см или не ниже 190 см  \n",
    "ё) не выше 150 см или не ниже 198 см  \n",
    "ж) ниже 166 см."
   ]
  },
  {
   "cell_type": "markdown",
   "metadata": {},
   "source": [
    "$$Z = \\frac{X - \\mu}{\\sigma}$$"
   ]
  },
  {
   "cell_type": "code",
   "execution_count": 7,
   "metadata": {},
   "outputs": [],
   "source": [
    "mu = 174\n",
    "\n",
    "sigma = 8"
   ]
  },
  {
   "cell_type": "code",
   "execution_count": 8,
   "metadata": {},
   "outputs": [
    {
     "data": {
      "text/plain": [
       "1.0"
      ]
     },
     "execution_count": 8,
     "metadata": {},
     "output_type": "execute_result"
    }
   ],
   "source": [
    "# больше 182 см\n",
    "X = 182\n",
    "\n",
    "Z = (X - mu)/sigma\n",
    "\n",
    "Z"
   ]
  },
  {
   "cell_type": "markdown",
   "metadata": {},
   "source": [
    "Находим по таблице:  \n",
    "при Z = -1  \n",
    "**N(Z) = 0.1587**"
   ]
  },
  {
   "cell_type": "code",
   "execution_count": 9,
   "metadata": {},
   "outputs": [
    {
     "data": {
      "text/plain": [
       "2.0"
      ]
     },
     "execution_count": 9,
     "metadata": {},
     "output_type": "execute_result"
    }
   ],
   "source": [
    "# больше 190 см\n",
    "X = 190\n",
    "\n",
    "Z = (X - mu)/sigma\n",
    "\n",
    "Z"
   ]
  },
  {
   "cell_type": "markdown",
   "metadata": {},
   "source": [
    "Находим по таблице:  \n",
    "при Z = -2  \n",
    "**N(Z) = 0.0228**"
   ]
  },
  {
   "cell_type": "code",
   "execution_count": 10,
   "metadata": {},
   "outputs": [
    {
     "data": {
      "text/plain": [
       "-1.0"
      ]
     },
     "execution_count": 10,
     "metadata": {},
     "output_type": "execute_result"
    }
   ],
   "source": [
    "# от 166 см до 190 см\n",
    "X = 166\n",
    "\n",
    "Z = (X - mu)/sigma\n",
    "\n",
    "Z"
   ]
  },
  {
   "cell_type": "markdown",
   "metadata": {},
   "source": [
    "Находим по таблице:  \n",
    "**N(2) - N(-1) = (1 - 0.0228) - 0.1587 = 0.8185**"
   ]
  },
  {
   "cell_type": "markdown",
   "metadata": {},
   "source": [
    "Какова вероятность того, что случайным образом выбранный взрослый человек имеет рост от **166 см** до **182 см**?  \n",
    "Находим по таблице:  \n",
    "**N(1) - N(-1) = (1 - 0.1587) - 0.1587 = 0.6826**"
   ]
  },
  {
   "cell_type": "code",
   "execution_count": 11,
   "metadata": {},
   "outputs": [
    {
     "data": {
      "text/plain": [
       "-2.0"
      ]
     },
     "execution_count": 11,
     "metadata": {},
     "output_type": "execute_result"
    }
   ],
   "source": [
    "# от 158 см до 190 см\n",
    "X = 158\n",
    "\n",
    "Z = (X - mu)/sigma\n",
    "\n",
    "Z"
   ]
  },
  {
   "cell_type": "markdown",
   "metadata": {},
   "source": [
    "Находим по таблице:  \n",
    "**N(2) - N(-2) = (1 - 0.0228) - 0.0228 = 0.9544**"
   ]
  },
  {
   "cell_type": "code",
   "execution_count": 12,
   "metadata": {},
   "outputs": [
    {
     "data": {
      "text/plain": [
       "-3.0"
      ]
     },
     "execution_count": 12,
     "metadata": {},
     "output_type": "execute_result"
    }
   ],
   "source": [
    "# не выше 150 см или не ниже 190 см\n",
    "X = 150\n",
    "\n",
    "Z = (X - mu)/sigma\n",
    "\n",
    "Z"
   ]
  },
  {
   "cell_type": "markdown",
   "metadata": {},
   "source": [
    "Находим по таблице:  \n",
    "**N(-2) + N(-3) = 0.0228 + (1 - 0.9986) = 0.0242**"
   ]
  },
  {
   "cell_type": "code",
   "execution_count": 13,
   "metadata": {},
   "outputs": [
    {
     "data": {
      "text/plain": [
       "3.0"
      ]
     },
     "execution_count": 13,
     "metadata": {},
     "output_type": "execute_result"
    }
   ],
   "source": [
    "# не выше 150 см или не ниже 198 см\n",
    "X = 198\n",
    "\n",
    "Z = (X - mu)/sigma\n",
    "\n",
    "Z"
   ]
  },
  {
   "cell_type": "markdown",
   "metadata": {},
   "source": [
    "Находим по таблице:  \n",
    "**N(-3) + N(-3) = (1 - 0.9986) + (1 - 0.9986) = 0.0028**"
   ]
  },
  {
   "cell_type": "markdown",
   "metadata": {},
   "source": [
    "Какова вероятность того, что случайным образом выбранный взрослый человек имеет рост ниже **166 см**?  \n",
    "Находим по таблице:   \n",
    "**N(-1) = 0.1578**"
   ]
  },
  {
   "cell_type": "markdown",
   "metadata": {},
   "source": [
    "# Задание 5\n",
    "На сколько сигм (средних квадратичных отклонений) отклоняется рост человека, равный 190 см, от\n",
    "математического ожидания роста в популяции, в которой **M(X)** = 178 см и **D(X)** = 25 кв.см?"
   ]
  },
  {
   "cell_type": "code",
   "execution_count": 14,
   "metadata": {},
   "outputs": [
    {
     "data": {
      "text/plain": [
       "2.4"
      ]
     },
     "execution_count": 14,
     "metadata": {},
     "output_type": "execute_result"
    }
   ],
   "source": [
    "X = 190\n",
    "\n",
    "M = 178\n",
    "\n",
    "D = 25\n",
    "\n",
    "sigma = np.sqrt(D)\n",
    "\n",
    "delta = (X - M) / sigma\n",
    "\n",
    "delta"
   ]
  }
 ],
 "metadata": {
  "kernelspec": {
   "display_name": "Python 3",
   "language": "python",
   "name": "python3"
  },
  "language_info": {
   "codemirror_mode": {
    "name": "ipython",
    "version": 3
   },
   "file_extension": ".py",
   "mimetype": "text/x-python",
   "name": "python",
   "nbconvert_exporter": "python",
   "pygments_lexer": "ipython3",
   "version": "3.7.4"
  }
 },
 "nbformat": 4,
 "nbformat_minor": 2
}
