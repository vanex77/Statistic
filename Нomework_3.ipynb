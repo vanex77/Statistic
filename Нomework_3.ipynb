{
 "cells": [
  {
   "cell_type": "code",
   "execution_count": 1,
   "metadata": {},
   "outputs": [],
   "source": [
    "import numpy as np\n",
    "import pandas as pd\n",
    "import matplotlib.pyplot as plt\n",
    "import math"
   ]
  },
  {
   "cell_type": "code",
   "execution_count": 2,
   "metadata": {},
   "outputs": [],
   "source": [
    "salary = [100, 80, 75, 77, 89, 33, 45, 25, 65, 17, 30, 24, 57, 55, 70, 75, 65, 84, 90, 150]"
   ]
  },
  {
   "cell_type": "markdown",
   "metadata": {},
   "source": [
    "# Задание 1\n",
    "Даны значения зарплат из выборки выпускников: 100, 80, 75, 77, 89, 33, 45, 25, 65, 17, 30, 24, 57, 55, 70, 75, 65, 84, 90, 150. Посчитать (желательно без использования статистических методов наподобие std, var, mean) среднее арифметическое, среднее квадратичное отклонение, смещенную и несмещенную оценки дисперсий для данной выборки."
   ]
  },
  {
   "cell_type": "markdown",
   "metadata": {},
   "source": [
    "### Cреднее арифметическое"
   ]
  },
  {
   "cell_type": "code",
   "execution_count": 3,
   "metadata": {},
   "outputs": [
    {
     "data": {
      "text/plain": [
       "65.3"
      ]
     },
     "execution_count": 3,
     "metadata": {},
     "output_type": "execute_result"
    }
   ],
   "source": [
    "arithmetic_mean = sum(salary) / len(salary)\n",
    "arithmetic_mean"
   ]
  },
  {
   "cell_type": "code",
   "execution_count": 4,
   "metadata": {
    "scrolled": true
   },
   "outputs": [
    {
     "data": {
      "text/plain": [
       "65.3"
      ]
     },
     "execution_count": 4,
     "metadata": {},
     "output_type": "execute_result"
    }
   ],
   "source": [
    "# Проверка\n",
    "np.mean(salary)"
   ]
  },
  {
   "cell_type": "markdown",
   "metadata": {},
   "source": [
    "### Cреднее квадратичное отклонение"
   ]
  },
  {
   "cell_type": "code",
   "execution_count": 5,
   "metadata": {},
   "outputs": [
    {
     "data": {
      "text/plain": [
       "30.823854398825596"
      ]
     },
     "execution_count": 5,
     "metadata": {},
     "output_type": "execute_result"
    }
   ],
   "source": [
    "diff_squares = 0\n",
    "\n",
    "for num in salary:\n",
    "  diff_squares += (num - arithmetic_mean)**2\n",
    "\n",
    "standard_deviation = np.sqrt(diff_squares/len(salary))\n",
    "\n",
    "standard_deviation"
   ]
  },
  {
   "cell_type": "code",
   "execution_count": 6,
   "metadata": {
    "scrolled": true
   },
   "outputs": [
    {
     "data": {
      "text/plain": [
       "30.823854398825596"
      ]
     },
     "execution_count": 6,
     "metadata": {},
     "output_type": "execute_result"
    }
   ],
   "source": [
    "# Проверка\n",
    "np.std(salary)"
   ]
  },
  {
   "cell_type": "markdown",
   "metadata": {},
   "source": [
    "### Cмещенная дисперсия"
   ]
  },
  {
   "cell_type": "code",
   "execution_count": 7,
   "metadata": {},
   "outputs": [
    {
     "data": {
      "text/plain": [
       "950.11"
      ]
     },
     "execution_count": 7,
     "metadata": {},
     "output_type": "execute_result"
    }
   ],
   "source": [
    "variance_biased = standard_deviation**2\n",
    "\n",
    "variance_biased"
   ]
  },
  {
   "cell_type": "code",
   "execution_count": 8,
   "metadata": {},
   "outputs": [
    {
     "data": {
      "text/plain": [
       "950.11"
      ]
     },
     "execution_count": 8,
     "metadata": {},
     "output_type": "execute_result"
    }
   ],
   "source": [
    "# Проверка\n",
    "np.var(salary)"
   ]
  },
  {
   "cell_type": "markdown",
   "metadata": {},
   "source": [
    "### Несмещенная дисперсия"
   ]
  },
  {
   "cell_type": "code",
   "execution_count": 9,
   "metadata": {},
   "outputs": [
    {
     "data": {
      "text/plain": [
       "1000.1157894736842"
      ]
     },
     "execution_count": 9,
     "metadata": {},
     "output_type": "execute_result"
    }
   ],
   "source": [
    "unbiased_variance = diff_squares/(len(salary)-1)\n",
    "\n",
    "unbiased_variance"
   ]
  },
  {
   "cell_type": "markdown",
   "metadata": {},
   "source": [
    "# Задание 2\n",
    "В первом ящике находится 8 мячей, из которых 5 - белые. Во втором ящике - 12 мячей, из которых 5 белых. Из первого ящика вытаскивают случайным образом два мяча, из второго - 4. Какова вероятность того, что 3 мяча белые?"
   ]
  },
  {
   "cell_type": "code",
   "execution_count": 10,
   "metadata": {},
   "outputs": [],
   "source": [
    "def combi(k, n):\n",
    "    return int(math.factorial(n) / (math.factorial(k) * math.factorial(n-k)))"
   ]
  },
  {
   "cell_type": "code",
   "execution_count": 11,
   "metadata": {},
   "outputs": [
    {
     "data": {
      "text/plain": [
       "0.3686868686868686"
      ]
     },
     "execution_count": 11,
     "metadata": {},
     "output_type": "execute_result"
    }
   ],
   "source": [
    "# Если считать по отдельным событиям\n",
    "\n",
    "P1 = ((5/8 * 4/7) * (5/12 * 7/11 * 6/10 * 5/9)) * 4\n",
    "\n",
    "P2 = ((5/8 * 3/7) * (5/12 * 4/11 * 7/10 * 6/9)) * 12\n",
    "\n",
    "P3 = ((3/8 *2/7) * (5/12 * 4/11 * 3/10 *7/9)) * 4\n",
    "\n",
    "P1 + P2 + P3"
   ]
  },
  {
   "cell_type": "code",
   "execution_count": 12,
   "metadata": {},
   "outputs": [
    {
     "data": {
      "text/plain": [
       "0.3686868686868687"
      ]
     },
     "execution_count": 12,
     "metadata": {},
     "output_type": "execute_result"
    }
   ],
   "source": [
    "# Если считать через комбинаторику\n",
    "\n",
    "p1 = combi(2, 5)/combi(2, 8) * (combi(1, 5) * combi(3, 7))/combi(4, 12)\n",
    "\n",
    "p2 = (combi(1, 5) * combi(1, 3))/combi(2, 8) * (combi(2, 5) * combi(2, 7))/combi(4, 12)\n",
    "\n",
    "p3 = combi(2, 3)/combi(2, 8) * (combi(3, 5) * combi(1, 7))/combi(4, 12)\n",
    "\n",
    "p1 + p2 + p3"
   ]
  },
  {
   "cell_type": "markdown",
   "metadata": {},
   "source": [
    "# Задание 3\n",
    "На соревновании по биатлону один из трех спортсменов стреляет и попадает в мишень. Вероятность попадания для первого спортсмена равна 0.9, для второго — 0.8, для третьего — 0.6. Найти вероятность того, что выстрел произведен: a). первым спортсменом б). вторым спортсменом в). третьим спортсменом."
   ]
  },
  {
   "cell_type": "markdown",
   "metadata": {},
   "source": [
    "Вероятность того, что выстрел был произведен, равна 1/3 — если считать, что у всех спортсменов равные возможности выстрелить.\n",
    "\n",
    "Событием **A** будем считать попадание в мишень, а событиями **B1**, **B2** и **B3** — что выстрел совершил первый, второй или третий спортсмен:\n",
    "\n",
    "Тогда:\n",
    "\n",
    "**P(B1) = P(B2) = P(B3) = 1/3**\n",
    "\n",
    "**P(A|B1)=0.9**\n",
    "\n",
    "**P(A|B2)=0.8**\n",
    "\n",
    "**P(A|B3)=0.6**\n",
    "\n",
    "Вероятность того, что стрелял первый спортсмен — при условии, что выстрел был удачным, найдем по формуле:\n",
    "\n",
    "**P(B1|A)=P(B1)*P(A|B1)/P(A)**"
   ]
  },
  {
   "cell_type": "code",
   "execution_count": 13,
   "metadata": {},
   "outputs": [
    {
     "data": {
      "text/plain": [
       "0.391304347826087"
      ]
     },
     "execution_count": 13,
     "metadata": {},
     "output_type": "execute_result"
    }
   ],
   "source": [
    "P_B1_A = (1/3 * 0.9) / (1/3*0.9 + 1/3*0.8 + 1/3*0.6)\n",
    "\n",
    "P_B1_A"
   ]
  },
  {
   "cell_type": "code",
   "execution_count": 14,
   "metadata": {},
   "outputs": [
    {
     "data": {
      "text/plain": [
       "0.3478260869565218"
      ]
     },
     "execution_count": 14,
     "metadata": {},
     "output_type": "execute_result"
    }
   ],
   "source": [
    "# Аналогично для второго стрелка\n",
    "\n",
    "P_B2_A = (1/3 * 0.8) / (1/3*0.9 + 1/3*0.8 + 1/3*0.6)\n",
    "\n",
    "P_B2_A"
   ]
  },
  {
   "cell_type": "code",
   "execution_count": 15,
   "metadata": {},
   "outputs": [
    {
     "data": {
      "text/plain": [
       "0.2608695652173913"
      ]
     },
     "execution_count": 15,
     "metadata": {},
     "output_type": "execute_result"
    }
   ],
   "source": [
    "# И для третего стрелка\n",
    "\n",
    "P_B3_A = (1/3 * 0.6) / (1/3*0.9 + 1/3*0.8 + 1/3*0.6)\n",
    "\n",
    "P_B3_A"
   ]
  },
  {
   "cell_type": "markdown",
   "metadata": {},
   "source": [
    "# Задание 4\n",
    "В университет на факультеты A и B поступило равное количество студентов, а на факультет C студентов поступило столько же, сколько на A и B вместе. Вероятность того, что студент факультета A сдаст первую сессию, равна 0.8. Для студента факультета B эта вероятность равна 0.7, а для студента факультета C - 0.9. Студент сдал первую сессию. Какова вероятность, что он учится:\n",
    "\n",
    "a) на факультете A\n",
    "\n",
    "б) на факультете B \n",
    "\n",
    "в) на факультете C?"
   ]
  },
  {
   "cell_type": "markdown",
   "metadata": {},
   "source": [
    "Вероятность того, что студент, сдавший сессию, окажется с факультета А и B, равны:\n",
    "\n",
    "**P(А) = P(B)**.\n",
    "\n",
    "И они в два раза меньше вероятности того, что сдавший сессию студент окажется с факультета С (на факультете С студентов больше в два раза):\n",
    "\n",
    "**P(А) = P(B) = 0,5 P(C) = 0.25**\n",
    "\n",
    "Событием **AA** будем считать сдачу первой сессии, а событиями **A**, **B** и **C** — что сессию сдал студент факультета A, B или С:\n",
    "\n",
    "Тогда:\n",
    "\n",
    "**P(AA|A)=0.8**\n",
    "\n",
    "**P(AA|B)=0.7**\n",
    "\n",
    "**P(AA|C)=0.9**\n",
    "\n",
    "Искомые вероятность выразим общей формулой:\n",
    "\n",
    "**P(A,B,C|AA) = P(A,B,C) * P(AA|A,B,C) / P(AA)**"
   ]
  },
  {
   "cell_type": "code",
   "execution_count": 16,
   "metadata": {},
   "outputs": [
    {
     "data": {
      "text/plain": [
       "0.24242424242424246"
      ]
     },
     "execution_count": 16,
     "metadata": {},
     "output_type": "execute_result"
    }
   ],
   "source": [
    "P_A_AA = (0.25*0.8) / (0.25*0.8 + 0.25*0.7 + 0.5*0.9)\n",
    "\n",
    "P_A_AA"
   ]
  },
  {
   "cell_type": "code",
   "execution_count": 17,
   "metadata": {},
   "outputs": [
    {
     "data": {
      "text/plain": [
       "0.21212121212121213"
      ]
     },
     "execution_count": 17,
     "metadata": {},
     "output_type": "execute_result"
    }
   ],
   "source": [
    "P_B_AA = (0.25*0.7) / (0.25*0.8 + 0.25*0.7 + 0.5*0.9)\n",
    "\n",
    "P_B_AA"
   ]
  },
  {
   "cell_type": "code",
   "execution_count": 18,
   "metadata": {},
   "outputs": [
    {
     "data": {
      "text/plain": [
       "0.5454545454545455"
      ]
     },
     "execution_count": 18,
     "metadata": {},
     "output_type": "execute_result"
    }
   ],
   "source": [
    "P_C_AA = (0.5*0.9) / (0.25*0.8 + 0.25*0.7 + 0.5*0.9)\n",
    "\n",
    "P_C_AA"
   ]
  },
  {
   "cell_type": "markdown",
   "metadata": {},
   "source": [
    "# Задание 5\n",
    "Устройство состоит из трех деталей. Для первой детали вероятность выйти из строя в первый месяц равна 0.1, для второй - 0.2, для третьей - 0.25. Какова вероятность того, что в первый месяц выйдут из строя:\n",
    "\n",
    "а) все детали\n",
    "\n",
    "б) только две детали\n",
    "\n",
    "в) хотя бы одна деталь\n",
    "\n",
    "г) от одной до двух деталей?"
   ]
  },
  {
   "cell_type": "code",
   "execution_count": 19,
   "metadata": {},
   "outputs": [
    {
     "data": {
      "text/plain": [
       "'0.005'"
      ]
     },
     "execution_count": 19,
     "metadata": {},
     "output_type": "execute_result"
    }
   ],
   "source": [
    "# В первый месяц выйдут из строя все детали\n",
    "\n",
    "P_3 = 0.1 * 0.2 * 0.25\n",
    "\n",
    "'%.3f'%P_3"
   ]
  },
  {
   "cell_type": "code",
   "execution_count": 20,
   "metadata": {},
   "outputs": [
    {
     "data": {
      "text/plain": [
       "'0.08'"
      ]
     },
     "execution_count": 20,
     "metadata": {},
     "output_type": "execute_result"
    }
   ],
   "source": [
    "# В первый месяц выйдут из строя только две детали\n",
    "\n",
    "P_2 = 0.1*0.2*(1-0.25) + 0.1*(1-0.2)*0.25 + (1-0.1)*0.2*0.25\n",
    "\n",
    "'%.2f'%P_2"
   ]
  },
  {
   "cell_type": "code",
   "execution_count": 21,
   "metadata": {},
   "outputs": [
    {
     "data": {
      "text/plain": [
       "'0.46'"
      ]
     },
     "execution_count": 21,
     "metadata": {},
     "output_type": "execute_result"
    }
   ],
   "source": [
    "# В первый месяц выйдет из строя хотя бы одна деталь.\n",
    "# Здесь посчитаем через вероятность обратного события.\n",
    "\n",
    "P_1_2_3 = 1 - (1-0.1)*(1-0.2)*(1-0.25)\n",
    "\n",
    "'%.2f'%P_1_2_3"
   ]
  },
  {
   "cell_type": "code",
   "execution_count": 22,
   "metadata": {},
   "outputs": [
    {
     "data": {
      "text/plain": [
       "0.455"
      ]
     },
     "execution_count": 22,
     "metadata": {},
     "output_type": "execute_result"
    }
   ],
   "source": [
    "# В первый месяц выйдет из строя 1-2 детали\n",
    "# Найдем вероятность выхода из строя только одной детали\n",
    "\n",
    "P_1 = 0.1*(1-0.2)*(1-0.25) + (1-0.1)*0.2*(1-0.25) + (1-0.1)*(1-0.2)*0.25\n",
    "\n",
    "P_1_2 = P_2 + P_1\n",
    "\n",
    "P_1_2"
   ]
  }
 ],
 "metadata": {
  "kernelspec": {
   "display_name": "Python 3",
   "language": "python",
   "name": "python3"
  },
  "language_info": {
   "codemirror_mode": {
    "name": "ipython",
    "version": 3
   },
   "file_extension": ".py",
   "mimetype": "text/x-python",
   "name": "python",
   "nbconvert_exporter": "python",
   "pygments_lexer": "ipython3",
   "version": "3.7.4"
  }
 },
 "nbformat": 4,
 "nbformat_minor": 2
}
